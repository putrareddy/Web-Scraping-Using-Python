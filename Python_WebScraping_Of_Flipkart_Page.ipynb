{
  "nbformat": 4,
  "nbformat_minor": 0,
  "metadata": {
    "colab": {
      "name": "Python WebScraping Of Flipkart Page",
      "provenance": [],
      "collapsed_sections": [],
      "authorship_tag": "ABX9TyPu9gl0PWn7XQGdtQu+k15/",
      "include_colab_link": true
    },
    "kernelspec": {
      "name": "python3",
      "display_name": "Python 3"
    },
    "language_info": {
      "name": "python"
    }
  },
  "cells": [
    {
      "cell_type": "markdown",
      "metadata": {
        "id": "view-in-github",
        "colab_type": "text"
      },
      "source": [
        "<a href=\"https://colab.research.google.com/github/putrareddy/Web-Scraping-Using-Python/blob/main/Python_WebScraping_Of_Flipkart_Page.ipynb\" target=\"_parent\"><img src=\"https://colab.research.google.com/assets/colab-badge.svg\" alt=\"Open In Colab\"/></a>"
      ]
    },
    {
      "cell_type": "markdown",
      "metadata": {
        "id": "GBx-RBHEsZPm"
      },
      "source": [
        "Python WebScraping Of Flipkart Mobiles Page"
      ]
    },
    {
      "cell_type": "code",
      "metadata": {
        "colab": {
          "base_uri": "https://localhost:8080/"
        },
        "id": "EtsuH-iaoaR-",
        "outputId": "a856a29c-ec62-4dd4-b058-ca053f454e76"
      },
      "source": [
        "!pip install kora -q"
      ],
      "execution_count": 1,
      "outputs": [
        {
          "output_type": "stream",
          "text": [
            "\u001b[?25l\r\u001b[K     |█████▊                          | 10 kB 21.2 MB/s eta 0:00:01\r\u001b[K     |███████████▍                    | 20 kB 10.5 MB/s eta 0:00:01\r\u001b[K     |█████████████████               | 30 kB 8.5 MB/s eta 0:00:01\r\u001b[K     |██████████████████████▊         | 40 kB 7.6 MB/s eta 0:00:01\r\u001b[K     |████████████████████████████▍   | 51 kB 5.1 MB/s eta 0:00:01\r\u001b[K     |████████████████████████████████| 57 kB 2.5 MB/s \n",
            "\u001b[?25h\u001b[?25l\r\u001b[K     |██████                          | 10 kB 20.0 MB/s eta 0:00:01\r\u001b[K     |████████████▏                   | 20 kB 25.4 MB/s eta 0:00:01\r\u001b[K     |██████████████████▎             | 30 kB 22.6 MB/s eta 0:00:01\r\u001b[K     |████████████████████████▍       | 40 kB 19.1 MB/s eta 0:00:01\r\u001b[K     |██████████████████████████████▌ | 51 kB 13.3 MB/s eta 0:00:01\r\u001b[K     |████████████████████████████████| 53 kB 1.7 MB/s \n",
            "\u001b[?25h"
          ],
          "name": "stdout"
        }
      ]
    },
    {
      "cell_type": "code",
      "metadata": {
        "id": "fh03fTFlofNS"
      },
      "source": [
        "from kora.selenium import wd\n",
        "import bs4\n",
        "from bs4 import BeautifulSoup\n",
        "import pandas as pd\n",
        "import requests "
      ],
      "execution_count": 58,
      "outputs": []
    },
    {
      "cell_type": "code",
      "metadata": {
        "colab": {
          "base_uri": "https://localhost:8080/"
        },
        "id": "bHzetiIVonAW",
        "outputId": "b34ed5a5-89d2-439f-cfb0-2e165b736527"
      },
      "source": [
        "products = []\n",
        "ratings = []\n",
        "prices = []\n",
        "url = input(\"Paste HTTP URL of Mobile Products page here!! \")\n",
        "wd.get(url)\n",
        "content = wd.page_source\n",
        "soup = BeautifulSoup(content, 'html.parser')\n",
        "for data in soup.find_all('div',attrs={'class':'_3pLy-c'}):\n",
        "  name = data.find('div',attrs={'class':'_4rR01T'})\n",
        "  name = name.text\n",
        "  products.append(name)\n",
        "  rating = data.find('div',attrs={'class':'_3LWZlK'})\n",
        "  rating = rating.text\n",
        "  ratings.append(rating)\n",
        "  cost = data.find('div',attrs={'class':'_30jeq3 _1_WHN1'})\n",
        "  cost = cost.text\n",
        "  prices.append(cost)\n",
        "\n",
        "print(products)\n",
        "print(prices)\n",
        "print(ratings)"
      ],
      "execution_count": 67,
      "outputs": [
        {
          "output_type": "stream",
          "text": [
            "Paste HTTP URL of Mobile Products page here!! https://www.flipkart.com/search?q=laptop&sid=6bo%2Cb5g&as=on&as-show=on&otracker=AS_QueryStore_OrganicAutoSuggest_1_1_na_na_na&otracker1=AS_QueryStore_OrganicAutoSuggest_1_1_na_na_na&as-pos=1&as-type=RECENT&suggestionId=laptop%7CLaptops&requestId=8f8139f3-3d0a-45a5-a9b9-17d4dea6936b&as-searchtext=L\n",
            "['ASUS VivoBook 15 Ryzen 5 Quad Core 3500U - (8 GB/1 TB HDD/Windows 10 Home) M515DA-BQ502TS Thin and Lig...', 'ASUS VivoBook Flip Ryzen 5 Hexa Core - (8 GB/512 GB SSD/Windows 10 Home) TM420UA-EC501TS 2 in 1 Laptop', 'HP 15s Ryzen 3 Dual Core 3250U - (8 GB/1 TB HDD/256 GB SSD/Windows 10 Home) 15s-GR0012AU Laptop', 'Lenovo Lenovo V Athlon Dual Core 3050U - (4 GB/1 TB HDD/Windows 10 Home) V-15 ADA Laptop', 'HP Pentium Quad Core - (8 GB/256 GB SSD/Windows 10 Home) 14s- DQ3018TU Thin and Light Laptop', 'HP 14s Core i3 11th Gen - (8 GB/256 GB SSD/Windows 10 Home) 14s- DY2501TU Thin and Light Laptop', 'HP 15s Core i3 10th Gen - (8 GB/1 TB HDD/256 GB SSD/Windows 10 Home) 15s-du1064TU Laptop', 'DELL Inspiron Ryzen 5 Hexa Core 5500U - (8 GB/512 GB SSD/Windows 10) Inspiron 7415 2 in 1 Laptop', 'DELL Vostro Core i3 10th Gen - (8 GB/1 TB HDD/Windows 10 Home) Vostro 3401 Thin and Light Laptop', 'ASUS VivoBook 15 Core i5 10th Gen - (8 GB/1 TB HDD/256 GB SSD/Windows 10 Home) X515JA-EJ512TS Thin and...', 'ASUS TUF Gaming F15 Core i5 10th Gen - (8 GB/512 GB SSD/Windows 10 Home/4 GB Graphics/NVIDIA GeForce G...', 'Lenovo Ideapad Gaming 3 Ryzen 5 Hexa Core 4600H - (8 GB/1 TB HDD/Windows 10 Home/4 GB Graphics/NVIDIA ...', 'HP Core i3 11th Gen - (8 GB/256 GB SSD/Windows 10 Home) 15s-FQ2075TU Thin and Light Laptop', 'ASUS VivoBook Ultra 14 Core i3 10th Gen - (4 GB/512 GB SSD/Windows 10 Home) X413JA-EK267T||X413JA-EB30...', 'DELL Inspiron Ryzen 5 Quad Core 3450U - (8 GB/256 GB SSD/Windows 10) Inspiron 3505 Laptop', 'ASUS VivoBook Ultra 14 Ryzen 7 Octa Core 4700U - (8 GB/512 GB SSD/Windows 10 Home) M413IA-EK587T Thin ...', 'DELL Inspiron 3501 Core i5 11th Gen - (8 GB/1 TB HDD/256 GB SSD/Windows 10 Home) Inspiron 3501 Laptop', 'DELL Vostro Core i3 10th Gen - (4 GB/256 GB SSD/Windows 10 Home) Vostro 3401 Thin and Light Laptop', 'MSI GF65 Thin Hexa Core i5 10th Gen - (16 GB/512 GB SSD/Windows 10 Home/6 GB Graphics/NVIDIA GeForce G...', 'ASUS ROG Zephyrus G14 Ryzen 9 Octa Core 4900HS - (16 GB/512 GB SSD/Windows 10 Home/6 GB Graphics/NVIDI...', 'DELL Inspiron 3505 Ryzen 3 Dual Core 3250U - (8 GB/256 GB SSD/Windows 10 Home) Inspiron 3505 Laptop', 'HP 15s Ryzen 3 Dual Core 3250U - (8 GB/1 TB HDD/Windows 10 Home) 15s-GR0011AU Thin and Light Laptop', 'MSI GF63 Thin Hexa Core i5 10th Gen - (8 GB/1 TB HDD/256 GB SSD/Windows 10 Home/4 GB Graphics/NVIDIA G...', 'ASUS VivoBook Ultra 17 Ryzen 5 Hexa Core - (8 GB/1 TB HDD/256 GB SSD/Windows 10 Home) M712UA-AU501TS T...']\n",
            "['₹41,990', '₹59,990', '₹42,990', '₹26,990', '₹31,490', '₹41,990', '₹44,490', '₹66,447', '₹37,342', '₹50,990', '₹61,990', '₹57,990', '₹41,490', '₹38,990', '₹41,710', '₹59,990', '₹57,165', '₹36,497', '₹74,990', '₹1,08,990', '₹35,778', '₹37,490', '₹58,990', '₹62,990']\n",
            "['4.2', '4.6', '4.4', '4', '4.1', '4.4', '4.3', '4.3', '4', '4.3', '4.5', '4.3', '4.3', '4.4', '4.3', '4.4', '4.4', '4.4', '4.5', '4.8', '4.2', '4.2', '4.5', '5']\n"
          ],
          "name": "stdout"
        }
      ]
    },
    {
      "cell_type": "code",
      "metadata": {
        "colab": {
          "base_uri": "https://localhost:8080/",
          "height": 788
        },
        "id": "MiFvSeGz1CU3",
        "outputId": "f8bc85a3-315e-4342-b0b4-7d24b3216a4b"
      },
      "source": [
        "headers = ('Name','Price','Rating')\n",
        "tabledata = (products,prices,ratings)\n",
        "finaltable = dict(zip(headers,tabledata))\n",
        "\n",
        "Table = pd.DataFrame(finaltable)\n",
        "Table"
      ],
      "execution_count": 68,
      "outputs": [
        {
          "output_type": "execute_result",
          "data": {
            "text/html": [
              "<div>\n",
              "<style scoped>\n",
              "    .dataframe tbody tr th:only-of-type {\n",
              "        vertical-align: middle;\n",
              "    }\n",
              "\n",
              "    .dataframe tbody tr th {\n",
              "        vertical-align: top;\n",
              "    }\n",
              "\n",
              "    .dataframe thead th {\n",
              "        text-align: right;\n",
              "    }\n",
              "</style>\n",
              "<table border=\"1\" class=\"dataframe\">\n",
              "  <thead>\n",
              "    <tr style=\"text-align: right;\">\n",
              "      <th></th>\n",
              "      <th>Name</th>\n",
              "      <th>Price</th>\n",
              "      <th>Rating</th>\n",
              "    </tr>\n",
              "  </thead>\n",
              "  <tbody>\n",
              "    <tr>\n",
              "      <th>0</th>\n",
              "      <td>ASUS VivoBook 15 Ryzen 5 Quad Core 3500U - (8 ...</td>\n",
              "      <td>₹41,990</td>\n",
              "      <td>4.2</td>\n",
              "    </tr>\n",
              "    <tr>\n",
              "      <th>1</th>\n",
              "      <td>ASUS VivoBook Flip Ryzen 5 Hexa Core - (8 GB/5...</td>\n",
              "      <td>₹59,990</td>\n",
              "      <td>4.6</td>\n",
              "    </tr>\n",
              "    <tr>\n",
              "      <th>2</th>\n",
              "      <td>HP 15s Ryzen 3 Dual Core 3250U - (8 GB/1 TB HD...</td>\n",
              "      <td>₹42,990</td>\n",
              "      <td>4.4</td>\n",
              "    </tr>\n",
              "    <tr>\n",
              "      <th>3</th>\n",
              "      <td>Lenovo Lenovo V Athlon Dual Core 3050U - (4 GB...</td>\n",
              "      <td>₹26,990</td>\n",
              "      <td>4</td>\n",
              "    </tr>\n",
              "    <tr>\n",
              "      <th>4</th>\n",
              "      <td>HP Pentium Quad Core - (8 GB/256 GB SSD/Window...</td>\n",
              "      <td>₹31,490</td>\n",
              "      <td>4.1</td>\n",
              "    </tr>\n",
              "    <tr>\n",
              "      <th>5</th>\n",
              "      <td>HP 14s Core i3 11th Gen - (8 GB/256 GB SSD/Win...</td>\n",
              "      <td>₹41,990</td>\n",
              "      <td>4.4</td>\n",
              "    </tr>\n",
              "    <tr>\n",
              "      <th>6</th>\n",
              "      <td>HP 15s Core i3 10th Gen - (8 GB/1 TB HDD/256 G...</td>\n",
              "      <td>₹44,490</td>\n",
              "      <td>4.3</td>\n",
              "    </tr>\n",
              "    <tr>\n",
              "      <th>7</th>\n",
              "      <td>DELL Inspiron Ryzen 5 Hexa Core 5500U - (8 GB/...</td>\n",
              "      <td>₹66,447</td>\n",
              "      <td>4.3</td>\n",
              "    </tr>\n",
              "    <tr>\n",
              "      <th>8</th>\n",
              "      <td>DELL Vostro Core i3 10th Gen - (8 GB/1 TB HDD/...</td>\n",
              "      <td>₹37,342</td>\n",
              "      <td>4</td>\n",
              "    </tr>\n",
              "    <tr>\n",
              "      <th>9</th>\n",
              "      <td>ASUS VivoBook 15 Core i5 10th Gen - (8 GB/1 TB...</td>\n",
              "      <td>₹50,990</td>\n",
              "      <td>4.3</td>\n",
              "    </tr>\n",
              "    <tr>\n",
              "      <th>10</th>\n",
              "      <td>ASUS TUF Gaming F15 Core i5 10th Gen - (8 GB/5...</td>\n",
              "      <td>₹61,990</td>\n",
              "      <td>4.5</td>\n",
              "    </tr>\n",
              "    <tr>\n",
              "      <th>11</th>\n",
              "      <td>Lenovo Ideapad Gaming 3 Ryzen 5 Hexa Core 4600...</td>\n",
              "      <td>₹57,990</td>\n",
              "      <td>4.3</td>\n",
              "    </tr>\n",
              "    <tr>\n",
              "      <th>12</th>\n",
              "      <td>HP Core i3 11th Gen - (8 GB/256 GB SSD/Windows...</td>\n",
              "      <td>₹41,490</td>\n",
              "      <td>4.3</td>\n",
              "    </tr>\n",
              "    <tr>\n",
              "      <th>13</th>\n",
              "      <td>ASUS VivoBook Ultra 14 Core i3 10th Gen - (4 G...</td>\n",
              "      <td>₹38,990</td>\n",
              "      <td>4.4</td>\n",
              "    </tr>\n",
              "    <tr>\n",
              "      <th>14</th>\n",
              "      <td>DELL Inspiron Ryzen 5 Quad Core 3450U - (8 GB/...</td>\n",
              "      <td>₹41,710</td>\n",
              "      <td>4.3</td>\n",
              "    </tr>\n",
              "    <tr>\n",
              "      <th>15</th>\n",
              "      <td>ASUS VivoBook Ultra 14 Ryzen 7 Octa Core 4700U...</td>\n",
              "      <td>₹59,990</td>\n",
              "      <td>4.4</td>\n",
              "    </tr>\n",
              "    <tr>\n",
              "      <th>16</th>\n",
              "      <td>DELL Inspiron 3501 Core i5 11th Gen - (8 GB/1 ...</td>\n",
              "      <td>₹57,165</td>\n",
              "      <td>4.4</td>\n",
              "    </tr>\n",
              "    <tr>\n",
              "      <th>17</th>\n",
              "      <td>DELL Vostro Core i3 10th Gen - (4 GB/256 GB SS...</td>\n",
              "      <td>₹36,497</td>\n",
              "      <td>4.4</td>\n",
              "    </tr>\n",
              "    <tr>\n",
              "      <th>18</th>\n",
              "      <td>MSI GF65 Thin Hexa Core i5 10th Gen - (16 GB/5...</td>\n",
              "      <td>₹74,990</td>\n",
              "      <td>4.5</td>\n",
              "    </tr>\n",
              "    <tr>\n",
              "      <th>19</th>\n",
              "      <td>ASUS ROG Zephyrus G14 Ryzen 9 Octa Core 4900HS...</td>\n",
              "      <td>₹1,08,990</td>\n",
              "      <td>4.8</td>\n",
              "    </tr>\n",
              "    <tr>\n",
              "      <th>20</th>\n",
              "      <td>DELL Inspiron 3505 Ryzen 3 Dual Core 3250U - (...</td>\n",
              "      <td>₹35,778</td>\n",
              "      <td>4.2</td>\n",
              "    </tr>\n",
              "    <tr>\n",
              "      <th>21</th>\n",
              "      <td>HP 15s Ryzen 3 Dual Core 3250U - (8 GB/1 TB HD...</td>\n",
              "      <td>₹37,490</td>\n",
              "      <td>4.2</td>\n",
              "    </tr>\n",
              "    <tr>\n",
              "      <th>22</th>\n",
              "      <td>MSI GF63 Thin Hexa Core i5 10th Gen - (8 GB/1 ...</td>\n",
              "      <td>₹58,990</td>\n",
              "      <td>4.5</td>\n",
              "    </tr>\n",
              "    <tr>\n",
              "      <th>23</th>\n",
              "      <td>ASUS VivoBook Ultra 17 Ryzen 5 Hexa Core - (8 ...</td>\n",
              "      <td>₹62,990</td>\n",
              "      <td>5</td>\n",
              "    </tr>\n",
              "  </tbody>\n",
              "</table>\n",
              "</div>"
            ],
            "text/plain": [
              "                                                 Name      Price Rating\n",
              "0   ASUS VivoBook 15 Ryzen 5 Quad Core 3500U - (8 ...    ₹41,990    4.2\n",
              "1   ASUS VivoBook Flip Ryzen 5 Hexa Core - (8 GB/5...    ₹59,990    4.6\n",
              "2   HP 15s Ryzen 3 Dual Core 3250U - (8 GB/1 TB HD...    ₹42,990    4.4\n",
              "3   Lenovo Lenovo V Athlon Dual Core 3050U - (4 GB...    ₹26,990      4\n",
              "4   HP Pentium Quad Core - (8 GB/256 GB SSD/Window...    ₹31,490    4.1\n",
              "5   HP 14s Core i3 11th Gen - (8 GB/256 GB SSD/Win...    ₹41,990    4.4\n",
              "6   HP 15s Core i3 10th Gen - (8 GB/1 TB HDD/256 G...    ₹44,490    4.3\n",
              "7   DELL Inspiron Ryzen 5 Hexa Core 5500U - (8 GB/...    ₹66,447    4.3\n",
              "8   DELL Vostro Core i3 10th Gen - (8 GB/1 TB HDD/...    ₹37,342      4\n",
              "9   ASUS VivoBook 15 Core i5 10th Gen - (8 GB/1 TB...    ₹50,990    4.3\n",
              "10  ASUS TUF Gaming F15 Core i5 10th Gen - (8 GB/5...    ₹61,990    4.5\n",
              "11  Lenovo Ideapad Gaming 3 Ryzen 5 Hexa Core 4600...    ₹57,990    4.3\n",
              "12  HP Core i3 11th Gen - (8 GB/256 GB SSD/Windows...    ₹41,490    4.3\n",
              "13  ASUS VivoBook Ultra 14 Core i3 10th Gen - (4 G...    ₹38,990    4.4\n",
              "14  DELL Inspiron Ryzen 5 Quad Core 3450U - (8 GB/...    ₹41,710    4.3\n",
              "15  ASUS VivoBook Ultra 14 Ryzen 7 Octa Core 4700U...    ₹59,990    4.4\n",
              "16  DELL Inspiron 3501 Core i5 11th Gen - (8 GB/1 ...    ₹57,165    4.4\n",
              "17  DELL Vostro Core i3 10th Gen - (4 GB/256 GB SS...    ₹36,497    4.4\n",
              "18  MSI GF65 Thin Hexa Core i5 10th Gen - (16 GB/5...    ₹74,990    4.5\n",
              "19  ASUS ROG Zephyrus G14 Ryzen 9 Octa Core 4900HS...  ₹1,08,990    4.8\n",
              "20  DELL Inspiron 3505 Ryzen 3 Dual Core 3250U - (...    ₹35,778    4.2\n",
              "21  HP 15s Ryzen 3 Dual Core 3250U - (8 GB/1 TB HD...    ₹37,490    4.2\n",
              "22  MSI GF63 Thin Hexa Core i5 10th Gen - (8 GB/1 ...    ₹58,990    4.5\n",
              "23  ASUS VivoBook Ultra 17 Ryzen 5 Hexa Core - (8 ...    ₹62,990      5"
            ]
          },
          "metadata": {
            "tags": []
          },
          "execution_count": 68
        }
      ]
    }
  ]
}